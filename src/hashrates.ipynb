{
 "cells": [
  {
   "cell_type": "code",
   "execution_count": null,
   "metadata": {},
   "outputs": [],
   "source": [
    "from requests_html import HTMLSession\n",
    "import re\n",
    "prefix = {\"y\":1e-24, \"z\":1e-21, \"a\":1e-18, \"f\":1e-15, \"p\": 1e-12,\n",
    "          \"n\":1e-9, \"u\":1e-6, \"µ\":1e-6, \"m\":1e-3, \"c\":1e-2, \"d\":0.1,\n",
    "          \"h\":100, \"k\":1000, \"M\":1e6, \"G\":1e9, \"T\":1e12, \"P\":1e15,\n",
    "          \"E\":1e18, \"Z\":1e21, \"Y\":1e14}"
   ]
  },
  {
   "cell_type": "code",
   "execution_count": null,
   "metadata": {
    "scrolled": true
   },
   "outputs": [],
   "source": [
    "hashrate_sources = [\n",
    "    [\"LTC\",\n",
    "     \"https://www.litecoinpool.org/stats\", \n",
    "     \"//*[@id=\\42stats_pool_hash_rate\\42]/text()\",\n",
    "     \"\",\n",
    "     \"LitecoinPool.org\"\n",
    "    ],\n",
    "    \n",
    "    [\"LTC\", \n",
    "     \"https://www.multipool.us/dashboard/pool/ltc\",\n",
    "     \"//*[@id=\\42header-overview\\42]/div/div[2]/div/div[3]/button[1]/span/text()\",\n",
    "     \"\",\n",
    "     \"MULTIPOOL\"\n",
    "    ],\n",
    "    \n",
    "#     [\"LTC\", \n",
    "#      \"http://litepool.ru/#/\",\n",
    "#      '//*[@id=\"poolHashrate\"]/text()',\n",
    "#      \"#poolHashrate\",\n",
    "#      \"Soilcoin pool\"\n",
    "#     ],\n",
    "    \n",
    "#     [\"LTC\", \n",
    "#      \"http://syari.net/pool/\",\n",
    "#      \"//*[@id=\\42network_rate\\42]/text()\",\n",
    "#      \"\",\n",
    "#      \"P2Pool\"\n",
    "#      ],\n",
    "    \n",
    "#     [\"LTC\", \n",
    "#      \"http://litecoinp2pool.com:9327/static/\",\n",
    "#      \"//*[@id=\\42pool_rate\\42]/text()\",\n",
    "#      \"\",\n",
    "#      \"LitecoinP2Pool\"\n",
    "#      ],\n",
    "    \n",
    "    [\"LTC\", \n",
    "     \"http://crypto.mine.nu:9327/static/\",\n",
    "     \"//*[@id=\\42global_rate\\42]/text()\",\n",
    "     \"\",\n",
    "     \"crypto.mine.nu\"\n",
    "     ],\n",
    "    \n",
    "    [\"LTC\", \n",
    "     \"http://crypto.office-on-the.net:9327/static/\",\n",
    "     \"//*[@id=\\42local_rate\\42]/text()\",\n",
    "     \"\",\n",
    "     \"crypto.office-on-the.net:\"\n",
    "     ],\n",
    "    \n",
    "    \n",
    "    \n",
    "    [\"ETH\", \n",
    "     \"https://eth.2miners.com/en\",\n",
    "     \"\",#/html/body/div[1]/section/div/div[1]/div[1]/div/div/div[2]/div/h4/text()\",\n",
    "     \"#main > div.clearfix > div.col-xs-12.col-md-4.details > div > div > div:nth-child(2) > div > h4\",\n",
    "     \"2Miners\"\n",
    "     ],\n",
    "    \n",
    "    [\"ETH\", \n",
    "     \"https://hellominer.com/ETH/EthHome.aspx\",\n",
    "     \"//*[@id=\\42ContentPlaceHolder2_LabelPoolHashrate\\42]/text()\",\n",
    "     \"#ContentPlaceHolder2_LabelPoolHashrate\",\n",
    "     \"HelloMiner.com\"\n",
    "     ],\n",
    "    \n",
    "    [\"ETH\", \n",
    "     \"https://ethpool.org/\",\n",
    "     \"//*[@id=\\42app\\42]/div[4]/div[1]/div[2]/div/div[2]/div/div[1]/div[2]/p/text()\",\n",
    "     \"#app > div.container-fluid > div.row > div.col-lg-9.col-md-12 > div > div.d-none.d-lg-block > div > div.card.border-warning > div.card-body.p-4 > p\"\n",
    "     \"\",\n",
    "     \"Ethpool\"\n",
    "     ],\n",
    "    \n",
    "    [\"ETH\", \n",
    "     \"https://ethermine.org/\",\n",
    "     \"//*[@id=\\42app\\42]/div[4]/div[1]/div[2]/div/div[1]/div/div[1]/div[2]/p/text()\",\n",
    "     \"#app > div.container-fluid > div.row > div.col-lg-9.col-md-12 > div > div.d-none.d-lg-block > div > div.card.border-warning > div.card-body.p-4 > p\",\n",
    "     \"Ethermine\"\n",
    "     ],\n",
    "    \n",
    "    [\"ETH\", \n",
    "     \"https://www.f2pool.com/\",\n",
    "     \"/html/body/div[1]/div/div[1]/section[1]/div[4]/div[1]/div[1]/span/text()\",\n",
    "     \"body > div.page-wrapper.lang-en_US > div > div.page-index > section.section-hashrate > div.waves > div.coin-content.btc > div.item.pool-hashrate > span\",\n",
    "     \"F2Pool\"\n",
    "     ],\n",
    "    \n",
    "    [\"ETH\", \n",
    "     \"https://dwarfpool.com/\",\n",
    "     \"/html/body/div[2]/div/div[3]/div[1]/div/p[5]/text()\",\n",
    "     \"body > div:nth-child(3) > div > div:nth-child(3) > div:nth-child(1) > div > p:nth-child(5)\",\n",
    "     \"Dwarfpool\"\n",
    "     ],\n",
    "    \n",
    "]\n",
    "\n",
    "coin_pool_hash0 = []\n",
    "for i in range(0, len(hashrate_sources)):\n",
    "    \n",
    "    session = HTMLSession()\n",
    "    source = hashrate_sources[i]\n",
    "    \n",
    "    if(source[2] != \"\"):\n",
    "        r = session.get(source[1])\n",
    "        try:\n",
    "            r.html.render()\n",
    "        finally:\n",
    "            print(\"failure to render page\")\n",
    "        array = r.html.xpath(source[2])\n",
    "        if(len(array) == 0):\n",
    "            obj = r.html.find(source[3], first=True)\n",
    "            if (obj != None):\n",
    "                array = obj.text()\n",
    "                \n",
    "        value = \"\"\n",
    "        for j in range(0,len(array)):\n",
    "            regexp = re.compile(r'[0-9][0-9,.]*[ ].[hH]')\n",
    "            result = re.match(regexp,array[j])\n",
    "            if(result):\n",
    "                value = result.group(0)\n",
    "                break\n",
    "        \n",
    "        if(value != \"\"):\n",
    "            newarr = re.split(\" \",value)\n",
    "            prfx = re.sub(r'[Hh/s]*', '', newarr[1])\n",
    "            \n",
    "            coin_pool_hash0.append([source[0],source[4],float(newarr[0].replace(\",\",\".\"))*prefix[prfx]])\n",
    "        \n",
    "coin_pool_hash_udpate = coin_pool_hash0\n",
    "print(coin_pool_hash_udpate)"
   ]
  },
  {
   "cell_type": "code",
   "execution_count": null,
   "metadata": {},
   "outputs": [],
   "source": [
    "site = \"https://investoon.com/mining_pools/ETC\"\n",
    "valute = \"ETC\""
   ]
  },
  {
   "cell_type": "code",
   "execution_count": null,
   "metadata": {
    "scrolled": true
   },
   "outputs": [],
   "source": [
    "import requests\n",
    "url = 'https://httpbin.org/ip'\n",
    "proxies = {\n",
    "    \"http\": 'http://159.65.94.216:3128', \n",
    "}\n",
    "response = requests.get(url,proxies=proxies)\n",
    "print(response.json())"
   ]
  },
  {
   "cell_type": "markdown",
   "metadata": {},
   "source": [
    "https://2miners.com/ есть информация по пулам разных валют с хэшрейтами | пропарсить\n",
    "https://investoon.com/mining_pools/ пулы разных валют с хэшрейтами, пропарсить\n",
    "XRP рипл майниться не в пулах, а отдельными майнерами, ну и 50% принадлежит компании"
   ]
  },
  {
   "cell_type": "code",
   "execution_count": null,
   "metadata": {},
   "outputs": [],
   "source": [
    "session = HTMLSession()\n",
    "source = \"https://investoon.com/mining_pools/\"\n",
    "xpath = \"/html/body/div[2]/div/div[2]/div[2]/div[1]/div[1]/div/div[3]/div/div/a/text()\"\n",
    "r = session.get(source)\n",
    "r.html.render()\n",
    "array = r.html.xpath(xpath)\n",
    "\n",
    "site_coins = []\n",
    "for i in range(0,len(array)):\n",
    "    site_coins.append(array[i].replace(\" pools\",\"\"))\n",
    "print(site_coins)\n",
    "\n",
    "xpath = \"/html/body/div[2]/div/div[2]/div[2]/div[1]/div/div/div[2]/div[2]/table/tbody/tr/td[2]/div[2]/div[2]/span/span/text()\"\n",
    "for j in range(0,1):#len(site_coins)):\n",
    "    source_addr = source + \"/\" + site_coins[j]\n",
    "    print(source_addr)\n",
    "    r = session.get(source)\n",
    "    r.html.render()\n",
    "    array = r.html.xpath(xpath)\n",
    "    print(array)\n"
   ]
  },
  {
   "cell_type": "markdown",
   "metadata": {},
   "source": [
    "Всё ясно - request_html не работает в нашем случае. Тогда юзаем библиотеку бьютифул соуп и понимаем, что она бесполезна."
   ]
  },
  {
   "cell_type": "code",
   "execution_count": null,
   "metadata": {},
   "outputs": [],
   "source": [
    "import requests, bs4\n",
    "s=requests.get(\"https://investoon.com/mining_pools/\")\n",
    "b=bs4.BeautifulSoup(s.text, \"html.parser\")\n",
    "sel = \"html body.layout-boxed.pace-done div.page-container div.page-content div.content-wrapper div.content div.row div.col-md-12 div.panel div.panel-footer div.heading-elements div.col-md-12.text-center a.label.border-left-primary.label-striped\"\n",
    "print(b.select(sel))\n",
    "\n"
   ]
  },
  {
   "cell_type": "code",
   "execution_count": null,
   "metadata": {},
   "outputs": [],
   "source": [
    "import re\n",
    "import requests\n",
    "source = \"https://investoon.com/mining_pools/\"\n",
    "s=requests.get(source)\n",
    "site_coins = re.findall(r'>(.+?) pools</a>', s.text)\n",
    "\n",
    "coin_pool_hash = []\n",
    "for j in range(0,len(site_coins)):\n",
    "    source_addr = source + \"/\" + site_coins[j]\n",
    "    \n",
    "    s=requests.get(source_addr)\n",
    "    pools_names = re.findall(r'<span class=\"link\" (.+?)</span>', s.text)\n",
    "    for i in range(0,len(pools_names)):\n",
    "        pools_names[i]=re.split(\">\",pools_names[i])[1]\n",
    "    \n",
    "    pools_hashes = re.findall(r'\"hashrate_val\">(\\d+?)</span>', s.text)\n",
    "\n",
    "    for i in range(0,len(pools_names)):\n",
    "        if i < len(pools_hashes):\n",
    "            if(pools_hashes[i] != 0):\n",
    "                coin_pool_hash.append([site_coins[j],pools_names[i], float(pools_hashes[i])])\n",
    "                \n",
    "print(coin_pool_hash)\n",
    "\n",
    "coin_pool_hash_investoon = coin_pool_hash\n"
   ]
  },
  {
   "cell_type": "markdown",
   "metadata": {},
   "source": [
    "В чём сила брат? Сила в регэкспе, у кого регэксп, тот и сильный )"
   ]
  },
  {
   "cell_type": "markdown",
   "metadata": {},
   "source": [
    "Теперь получим данные для биткойнов онли."
   ]
  },
  {
   "cell_type": "code",
   "execution_count": null,
   "metadata": {},
   "outputs": [],
   "source": [
    "s = requests.get(\"https://btc.com/stats/pool\")\n",
    "hashrates = re.findall(r'<td>\\n                                            (.+?)\\n                                            .H/s', s.text)\n",
    "\n",
    "hashrates_multipliers = re.findall(r'                                            (.+?)H/s', s.text)\n",
    "poolsnames = re.findall(r'>(.+?)</a>\\n                                                                            </td>', s.text)\n",
    "\n",
    "coin_pool_hash1 =[]\n",
    "for i in range(0,len(hashrates)):\n",
    "    if i < len(poolsnames):\n",
    "        coin_pool_hash1.append([\"BTC\",poolsnames[i],float(hashrates[i])*prefix[hashrates_multipliers[i]]])\n",
    "print(coin_pool_hash1)\n",
    "coin_pool_hash_btc = coin_pool_hash1"
   ]
  },
  {
   "cell_type": "markdown",
   "metadata": {},
   "source": [
    "Окей, данные получены, осталось 3 валюты и можно делать работу дальше. Да и ещё 2miners нужно пропарсинговать.\n",
    "\n",
    "coin_pool_hash_udpate\n",
    "coin_pool_hash_investoon\n",
    "coin_pool_hash_btc"
   ]
  },
  {
   "cell_type": "code",
   "execution_count": null,
   "metadata": {
    "scrolled": true
   },
   "outputs": [],
   "source": [
    "def concat_cph(list_to_add, out_list):\n",
    "    out_list.append(list_to_add[0])\n",
    "    for i in range(1,len(list_to_add)):\n",
    "        find = False\n",
    "        for j in range(0,len(out_list)):\n",
    "            if(out_list[j][0] == list_to_add[i][0] and out_list[j][1] == list_to_add[i][1]):\n",
    "                find = True\n",
    "                break;\n",
    "        if(not find):\n",
    "            out_list.append(list_to_add[i])\n",
    "    return out_list\n",
    "\n",
    "coin_pool_hash_concat = []\n",
    "#coin_pool_hash_concat = concat_cph(coin_pool_hash_udpate, coin_pool_hash_concat)\n",
    "#coin_pool_hash_concat = concat_cph(coin_pool_hash_investoon, coin_pool_hash_concat)\n",
    "coin_pool_hash_concat = concat_cph(coin_pool_hash_btc, coin_pool_hash_concat)\n",
    "print(coin_pool_hash_concat)\n",
    "\n",
    "\n"
   ]
  },
  {
   "cell_type": "code",
   "execution_count": null,
   "metadata": {},
   "outputs": [],
   "source": [
    "# рассчёт индекса Херфиндаля\n",
    "\n",
    "diffcoin_idxes = []\n",
    "diffcoin_idxes.append(0)\n",
    "hf_idxs = []\n",
    "for i in range(0,len(coin_pool_hash_concat)):\n",
    "    thereis = False\n",
    "    for j in range(0,len(diffcoin_idxes)):\n",
    "        if(coin_pool_hash_concat[i][0] == coin_pool_hash_concat[diffcoin_idxes[j]][0]):\n",
    "            thereis = True\n",
    "    if(not thereis):\n",
    "        diffcoin_idxes.append(i)\n",
    "diffcoin_idxes.append(len(coin_pool_hash_concat))\n",
    "        \n",
    "coin_herfindal_idx = []\n",
    "for i in range(0,len(diffcoin_idxes)-1):\n",
    "    start_idx = diffcoin_idxes[i]\n",
    "    stop_idx = diffcoin_idxes[i+1] - 1\n",
    "    \n",
    "    summ = 0\n",
    "    for j in range(start_idx, stop_idx):\n",
    "        summ += coin_pool_hash_concat[j][2]\n",
    "    herfindal = 0\n",
    "    for j in range(start_idx, stop_idx):\n",
    "        dol = 100* coin_pool_hash_concat[j][2] / summ\n",
    "        herfindal += dol * dol \n",
    "    \n",
    "    if(herfindal != 0 and herfindal != 10000):\n",
    "        coin_herfindal_idx.append([coin_pool_hash_concat[start_idx][0],herfindal])\n",
    "    \n",
    "print(coin_herfindal_idx)\n",
    "\n",
    "import csv\n",
    "f = open('coin_herfindal.csv', 'w')\n",
    "\n",
    "with f:\n",
    "    writer = csv.writer(f)\n",
    "    writer.writerows(coin_herfindal_idx)"
   ]
  },
  {
   "cell_type": "markdown",
   "metadata": {},
   "source": [
    "Запись в файл csv."
   ]
  },
  {
   "cell_type": "code",
   "execution_count": null,
   "metadata": {},
   "outputs": [],
   "source": [
    "import csv\n",
    "f = open('coin_pool_hash_table.csv', 'w')\n",
    "\n",
    "with f:\n",
    "    writer = csv.writer(f)\n",
    "    writer.writerows(coin_pool_hash_concat)"
   ]
  },
  {
   "cell_type": "code",
   "execution_count": null,
   "metadata": {},
   "outputs": [],
   "source": [
    "import csv\n",
    "f = open('coin_pool_hash_btc.csv', 'w')\n",
    "\n",
    "with f:\n",
    "    writer = csv.writer(f)\n",
    "    writer.writerows(coin_pool_hash_btc)"
   ]
  }
 ],
 "metadata": {
  "kernelspec": {
   "display_name": "Python 3",
   "language": "python",
   "name": "python3"
  },
  "language_info": {
   "codemirror_mode": {
    "name": "ipython",
    "version": 3
   },
   "file_extension": ".py",
   "mimetype": "text/x-python",
   "name": "python",
   "nbconvert_exporter": "python",
   "pygments_lexer": "ipython3",
   "version": "3.7.1"
  }
 },
 "nbformat": 4,
 "nbformat_minor": 2
}
